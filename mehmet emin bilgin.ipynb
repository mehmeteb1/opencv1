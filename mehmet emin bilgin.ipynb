{
 "cells": [
  {
   "cell_type": "markdown",
   "id": "a90db1ba-6346-456c-b18f-a494c03a7eef",
   "metadata": {},
   "source": [
    "# Computer Vision\n",
    "\n",
    "Bilgisayarlı Görü , bilgisayarla yalnızca dijital olarak aldıkları görüntülerle çevresel bilgileri anlamaları ve yorumlamalarını sağlayan bir alandır. Bu alandaki ana hedef, bilgisayar sistemlerine insan gözünün özelliklerini vermek ve işlevselliğini kazandırmaktır. Genellikle geç, dijital görüntülerin işlenmesi, analizi ve anlaşılması ile uğraşır . Bilgisayarlı görü, çeşitli uygulamalarda kullanılır. Örneğin, otomasyon endüstrisinde, robotların çevrelerini algılaması ve etkileşimde bulunabilmesi için bilgisayarlı görüye ihtiyaç vardır. Tıp alanında, elektron-emişli bilgisayarlı tomografi yoluyla (CT) görüntüleme teknolojilerinin ve MRG gibi alanların elde ettiği görüntülerin analizi ve sonucun belirlenmesinde çok önemlidir. Bilgisayarlı görü, sürücüsüz otomobillerin başkalarıyla iletişimde bulunarak seyahat etmesine izin vermek için kullanılır ve oto endüstrisinde gerçekten yaygındır. Günümüzde, sentetik veri, derin öğrenmeyle birleştirilerek, bilgisayar bilim şirketleri çok veriye ihtiyaç duymaktadır. Öte yandan, bir çok algoritmaya ihtiyaç vardır. Ayrıca, bilgisayarlı görü, yüz tanıma, nesne tanıma ve hareket analizi gerçekleştirir. kompleks 3D algoritma ve analizleme de yararlı bir işlem sınıfldırmadır."
   ]
  },
  {
   "cell_type": "markdown",
   "id": "ebfa1415-77ef-4991-9a36-5cfa1cb92932",
   "metadata": {},
   "source": [
    "### OpenCv Kütüphanesi Kullanımı\n",
    "\n",
    "\n",
    "1-Örnekleme ve Filtreleme: OpenCV ile görüntü örnekleme (resampling) işlemi yapabilirsiniz. Ayrıca görüntüye filtreler uygulayarak gürültüyü azaltabilir veya belirli özellikleri vurgulayabilirsiniz.\n",
    "\n",
    "2-Kenar ve Köşe Tespiti: OpenCV, bir görüntü üzerinde kenarları veya köşeleri tespit etmek için çeşitli algoritmalar sunar. Bu özellik özellikle nesne tespiti veya takibi gibi görevlerde önemlidir.\n",
    "\n",
    "3-Hassas Nokta Algılama: OpenCV, SIFT, SURF, ORB gibi algoritmalar aracılığıyla görüntülerdeki hassas noktaları belirleyebilir. Bu noktalar genellikle nesnelerin eşleştirilmesi veya tanınması için önemli olabilir.\n",
    "\n",
    "4-Hızlandırma Teknikleri: OpenCV, GPU hızlandırması ve paralel işlemleri destekler. Bu sayede, yoğun işlemlerin daha hızlı gerçekleştirilmesi mümkün olabilir.\n",
    "\n",
    "5-Görüntü Segmentasyonu: OpenCV, görüntüleri farklı segmentlere veya bölümlere ayırmak için kullanılabilir. Bu, nesneleri tanıma veya izleme gibi karmaşık görevlerde faydalı olabilir.\n",
    "\n",
    "6-Yüz Tanıma ve Hareket Algılama: OpenCV'nin içerdiği özel modüller sayesinde yüz tanıma, gülümseme algılama, göz takibi gibi yüksek seviyeli işlemleri gerçekleştirebilirsiniz."
   ]
  },
  {
   "cell_type": "markdown",
   "id": "bf8597a7-af19-4875-9ea5-9fb77b63b804",
   "metadata": {},
   "source": [
    "### 0- Kütüphanenin kurulumu"
   ]
  },
  {
   "cell_type": "code",
   "execution_count": null,
   "id": "e8300d50-497c-42e1-ac2b-cc458bffa579",
   "metadata": {},
   "outputs": [],
   "source": [
    "pip install opencv-python"
   ]
  },
  {
   "cell_type": "markdown",
   "id": "3a012d5b-7d9d-4b64-82fd-0539628cd9ab",
   "metadata": {},
   "source": [
    "### 1- "
   ]
  },
  {
   "cell_type": "code",
   "execution_count": null,
   "id": "16af5290-9980-42ea-86f9-c4266926ae24",
   "metadata": {},
   "outputs": [],
   "source": [
    "import cv2\n",
    "\n",
    "# resim yükleme\n",
    "image = cv2.imread('image.jpg')\n",
    "\n",
    "# resimin boyutlarını yarısına indirir\n",
    "scale_percent = 50\n",
    "\n",
    "# resimin genişliğini ve yüksekliğini alır\n",
    "width = int(image.shape[1] * scale_percent / 100)\n",
    "height = int(image.shape[0] * scale_percent / 100)\n",
    "\n",
    "# Yeni boyutları belirle\n",
    "dim = (width, height)\n",
    "\n",
    "# \n",
    "resized_image = cv2.resize(image, dim, interpolation=cv2.INTER_AREA)\n",
    "\n",
    "# Öönceki ve sonraki boyutlardaki resimleri gösterir\n",
    "print(\"Orjinal boyutlar:\", image.shape)\n",
    "print(\"Yeni boyutlar:\", resized_image.shape)\n",
    "\n",
    "# resimi gösterir ve herhangi bir tuşa basınca kapatmamızı sağlar\n",
    "cv2.imshow(\"Resized Image\", resized_image)\n",
    "cv2.waitKey(0)\n",
    "cv2.destroyAllWindows()\n",
    "\n",
    "\n",
    "\n"
   ]
  },
  {
   "cell_type": "markdown",
   "id": "474f1e1f-1f51-4097-b13b-2997d2f13464",
   "metadata": {},
   "source": [
    "### 2- "
   ]
  },
  {
   "cell_type": "code",
   "execution_count": null,
   "id": "3be2c9b7-6708-4de3-9ab5-215ce741fef0",
   "metadata": {},
   "outputs": [],
   "source": [
    "import cv2\n",
    "\n",
    "# resimi yükleme\n",
    "image = cv2.imread('image.jpg', cv2.IMREAD_GRAYSCALE)\n",
    "\n",
    "# köşeleri tespit eder\n",
    "corners = cv2.cornerHarris(image, 2, 3, 0.04)\n",
    "\n",
    "# köşeler vurgulamak için eşik değer belirler\n",
    "corners = cv2.dilate(corners, None)\n",
    "\n",
    "# köşeleri vurgular\n",
    "image[corners > 0.01 * corners.max()] = [0, 0, 255]\n",
    "\n",
    "# resimi ekranda gösterir ve bir tuşa basınca kapatmamızı sağlar\n",
    "cv2.imshow('Corners Detected', image)\n",
    "cv2.waitKey(0)\n",
    "cv2.destroyAllWindows()\n",
    "\n",
    "\n",
    "\n"
   ]
  },
  {
   "cell_type": "markdown",
   "id": "1384bf1c-b05d-4ff2-a44b-0740b99eba31",
   "metadata": {},
   "source": [
    "### 3- "
   ]
  },
  {
   "cell_type": "code",
   "execution_count": null,
   "id": "b265a851-406a-49c5-af2f-3e8cfaf6087f",
   "metadata": {},
   "outputs": [],
   "source": [
    "import cv2\n",
    "\n",
    "# resim yükleme\n",
    "image = cv2.imread('image.jpg', cv2.IMREAD_GRAYSCALE)\n",
    "\n",
    "# SIFT özelliklerini oluşturur\n",
    "sift = cv2.SIFT_create()\n",
    "\n",
    "# Keypoint'leri ve desenlerini bul\n",
    "keypoints, descriptors = sift.detectAndCompute(image, None)\n",
    "\n",
    "# Keypoint'leri çiz\n",
    "image_with_keypoints = cv2.drawKeypoints(image, keypoints, None)\n",
    "\n",
    "# resimi ekranda gösterir ve bir tuşa basınca kapatmamızı sağlar\n",
    "cv2.imshow('Image with SIFT Keypoints', image_with_keypoints)\n",
    "cv2.waitKey(0)\n",
    "cv2.destroyAllWindows()\n",
    "\n",
    "\n",
    "\n"
   ]
  },
  {
   "cell_type": "code",
   "execution_count": null,
   "id": "1f8e4f00-3502-461b-aadf-2b4f2b72b9d7",
   "metadata": {},
   "outputs": [],
   "source": [
    "import cv2\n",
    "\n",
    "# resim yükleme\n",
    "image = cv2.imread('image.jpg', cv2.IMREAD_GRAYSCALE)\n",
    "\n",
    "# SURF özelliklerini oluşturur\n",
    "surf = cv2.xfeatures2d.SURF_create()\n",
    "\n",
    "# Keypoint'leri ve desenlerini bul\n",
    "keypoints, descriptors = surf.detectAndCompute(image, None)\n",
    "\n",
    "# Keypoint'leri çiz\n",
    "image_with_keypoints = cv2.drawKeypoints(image, keypoints, None)\n",
    "\n",
    "# resimi ekranda gösterir ve bir tuşa basınca kapatmamızı sağlar\n",
    "cv2.imshow('Image with SURF Keypoints', image_with_keypoints)\n",
    "cv2.waitKey(0)\n",
    "cv2.destroyAllWindows()"
   ]
  },
  {
   "cell_type": "code",
   "execution_count": null,
   "id": "cdd6cedb-70b0-4b92-bb7e-406f08523a2e",
   "metadata": {},
   "outputs": [],
   "source": [
    "import cv2\n",
    "\n",
    "# resim yükleme\n",
    "image = cv2.imread('image.jpg', cv2.IMREAD_GRAYSCALE)\n",
    "\n",
    "# ORB özelliklerini oluşturur\n",
    "orb = cv2.ORB_create()\n",
    "\n",
    "# Keypoint'leri ve desenlerini bul\n",
    "keypoints, descriptors = orb.detectAndCompute(image, None)\n",
    "\n",
    "# Keypoint'leri çiz\n",
    "image_with_keypoints = cv2.drawKeypoints(image, keypoints, None)\n",
    "\n",
    "# resimi ekranda gösterir ve bir tuşa basınca kapatmamızı sağlar\n",
    "cv2.imshow('Image with ORB Keypoints', image_with_keypoints)\n",
    "cv2.waitKey(0)\n",
    "cv2.destroyAllWindows()"
   ]
  },
  {
   "cell_type": "markdown",
   "id": "82f76db8",
   "metadata": {},
   "source": [
    "### 4-"
   ]
  },
  {
   "cell_type": "code",
   "execution_count": null,
   "id": "963df93a",
   "metadata": {},
   "outputs": [],
   "source": [
    "\n",
    "import cv2\n",
    "\n",
    "# resim yükleme\n",
    "image = cv2.imread('image.jpg')\n",
    "\n",
    "# bgr yi hsv ye dönüştürür\n",
    "hsv = cv2.cvtColor(image, cv2.COLOR_BGR2HSV)\n",
    "\n",
    "# yeşil renk için eşik değerler belirler\n",
    "lower_green = (40, 40, 40)\n",
    "upper_green = (70, 255, 255)\n",
    "\n",
    "# Maskeleme yapar\n",
    "mask = cv2.inRange(hsv, lower_green, upper_green)\n",
    "\n",
    "# maske sayesinde nesneleri belirler\n",
    "segmented_image = cv2.bitwise_and(image, image, mask=mask)\n",
    "\n",
    "# resimleri ekranda gösterir ve bir tuşa basınca kapatmamızı sağlar\n",
    "cv2.imshow('Original Image', image)\n",
    "cv2.imshow('Segmented Image', segmented_image)\n",
    "cv2.waitKey(0)\n",
    "cv2.destroyAllWindows()\n",
    "\n",
    "\n"
   ]
  },
  {
   "cell_type": "code",
   "execution_count": null,
   "id": "d5ee9634",
   "metadata": {},
   "outputs": [],
   "source": [
    "import cv2\n",
    "import numpy as np\n",
    "\n",
    "# resim yükleme\n",
    "image = cv2.imread('image.jpg')\n",
    "\n",
    "# resimi gri tonlamaya dönüştürür\n",
    "gray = cv2.cvtColor(image, cv2.COLOR_BGR2GRAY)\n",
    "\n",
    "# kenarları tespit eder\n",
    "edges = cv2.Canny(gray, 50, 150, apertureSize=3)\n",
    "\n",
    "# Hough dönüşümü\n",
    "lines = cv2.HoughLines(edges, 1, np.pi/180, 200)\n",
    "\n",
    "# tüm bulunan çizgileri çizer\n",
    "for rho, theta in lines[:, 0]:\n",
    "    a = np.cos(theta)\n",
    "    b = np.sin(theta)\n",
    "    x0 = a * rho\n",
    "    y0 = b * rho\n",
    "    x1 = int(x0 + 1000 * (-b))\n",
    "    y1 = int(y0 + 1000 * (a))\n",
    "    x2 = int(x0 - 1000 * (-b))\n",
    "    y2 = int(y0 - 1000 * (a))\n",
    "    cv2.line(image, (x1, y1), (x2, y2), (0, 0, 255), 2)\n",
    "\n",
    "# sonuçları gösterir ve bir tuşa bastığımız zaman kapatılmasını sağlar\n",
    "cv2.imshow('Detected Lines', image)\n",
    "cv2.waitKey(0)\n",
    "cv2.destroyAllWindows()"
   ]
  },
  {
   "cell_type": "markdown",
   "id": "28a48c4b",
   "metadata": {},
   "source": [
    "### 5-"
   ]
  },
  {
   "cell_type": "code",
   "execution_count": null,
   "id": "8e3d347e",
   "metadata": {},
   "outputs": [],
   "source": [
    "\n",
    "\n",
    "import cv2\n",
    "\n",
    "# yüz tanıma için model yükleme\n",
    "face_cascade = cv2.CascadeClassifier(cv2.data.haarcascades + 'haarcascade_frontalface_default.xml')\n",
    "\n",
    "# kemaradaki görüntüyü yakalar\n",
    "cap = cv2.VideoCapture(0)\n",
    "\n",
    "while True:\n",
    "    # kameradaki resmi okur\n",
    "    ret, frame = cap.read()\n",
    "\n",
    "    # resimi gri tonlamaya gönüştürür\n",
    "    gray = cv2.cvtColor(frame, cv2.COLOR_BGR2GRAY)\n",
    "\n",
    "    # yüzleri tespit eder\n",
    "    faces = face_cascade.detectMultiScale(gray, scaleFactor=1.1, minNeighbors=5, minSize=(30, 30))\n",
    "\n",
    "    # tespit edilen yüzleri dörtgen ile çevreler\n",
    "    for (x, y, w, h) in faces:\n",
    "        cv2.rectangle(frame, (x, y), (x+w, y+h), (255, 0, 0), 2)\n",
    "\n",
    "    # çerçevelenmiş görüntüyü gösterir\n",
    "    cv2.imshow('Face Detection', frame)\n",
    "\n",
    "    # döngüden çıkış için a tuşuna basılmasını bekler\n",
    "    if cv2.waitKey(1) & 0xFF == ord('a'):\n",
    "        break\n",
    "\n",
    "#  bir tuşa basınca kapatmamızı sağlar\n",
    "cap.release()\n",
    "cv2.destroyAllWindows()\n",
    "\n"
   ]
  },
  {
   "cell_type": "markdown",
   "id": "214ee355",
   "metadata": {},
   "source": [
    "### 6-"
   ]
  },
  {
   "cell_type": "code",
   "execution_count": null,
   "id": "0b070b24",
   "metadata": {},
   "outputs": [],
   "source": [
    "\n",
    "\n",
    "import cv2\n",
    "\n",
    "# video dosyasını yükleme\n",
    "cap = cv2.VideoCapture('video.mp4')\n",
    "\n",
    "# videonun var olup olmadığını kontrol etme\n",
    "if not cap.isOpened():\n",
    "    print(\"Video dosyası bulunamadı veya açılamadı.\")\n",
    "    exit()\n",
    "\n",
    "while True:\n",
    "    # videoyu okuma\n",
    "    ret, frame = cap.read()\n",
    "\n",
    "    # video bittiyse videodan çıkar\n",
    "    if not ret:\n",
    "        break\n",
    "\n",
    "    # görüntüyü gri tonlamaya çevirir\n",
    "    gray = cv2.cvtColor(frame, cv2.COLOR_BGR2GRAY)\n",
    "\n",
    "    # işlenmiş videoyu gösterir\n",
    "    cv2.imshow('Video', gray)\n",
    "\n",
    "    # a tuşuna basıldığında döngüden çıkar\n",
    "    if cv2.waitKey(25) & 0xFF == ord('a'):\n",
    "        break\n",
    "\n",
    "#  bir tuşa basınca kapatmamızı sağlar\n",
    "cap.release()\n",
    "cv2.destroyAllWindows()\n",
    "\n"
   ]
  }
 ],
 "metadata": {
  "kernelspec": {
   "display_name": "Python 3 (ipykernel)",
   "language": "python",
   "name": "python3"
  },
  "language_info": {
   "codemirror_mode": {
    "name": "ipython",
    "version": 3
   },
   "file_extension": ".py",
   "mimetype": "text/x-python",
   "name": "python",
   "nbconvert_exporter": "python",
   "pygments_lexer": "ipython3",
   "version": "3.11.5"
  }
 },
 "nbformat": 4,
 "nbformat_minor": 5
}
